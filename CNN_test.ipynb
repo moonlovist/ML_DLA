{
  "nbformat": 4,
  "nbformat_minor": 0,
  "metadata": {
    "colab": {
      "name": "CNN_test.ipynb",
      "provenance": [],
      "machine_shape": "hm",
      "authorship_tag": "ABX9TyOWCq6ouPk7HK+TY572/LgB",
      "include_colab_link": true
    },
    "kernelspec": {
      "name": "python3",
      "display_name": "Python 3"
    },
    "language_info": {
      "name": "python"
    },
    "accelerator": "GPU"
  },
  "cells": [
    {
      "cell_type": "markdown",
      "metadata": {
        "id": "view-in-github",
        "colab_type": "text"
      },
      "source": [
        "<a href=\"https://colab.research.google.com/github/moonlovist/ML_DLA/blob/main/CNN_test.ipynb\" target=\"_parent\"><img src=\"https://colab.research.google.com/assets/colab-badge.svg\" alt=\"Open In Colab\"/></a>"
      ]
    },
    {
      "cell_type": "code",
      "metadata": {
        "colab": {
          "base_uri": "https://localhost:8080/"
        },
        "id": "troE4VOy_VHQ",
        "outputId": "8d37212c-637b-4d81-de8c-e62cd08633a5"
      },
      "source": [
        "import numpy as np\n",
        "from astropy.io import fits\n",
        "from astropy.table import Table\n",
        "import os\n",
        "from sklearn import preprocessing\n",
        "\n",
        "from keras.preprocessing.image import ImageDataGenerator\n",
        "from keras.models import Sequential\n",
        "from keras.layers.core import Dense, Dropout, Activation, Flatten\n",
        "from keras.layers import  BatchNormalization\n",
        "from keras.layers.convolutional import Conv2D\n",
        "from keras.layers import MaxPool2D\n",
        "from sklearn.model_selection import train_test_split\n",
        "from tensorflow.keras import layers, models\n",
        "\n",
        "from keras.callbacks import EarlyStopping\n",
        "from keras.callbacks import ModelCheckpoint\n",
        "from keras.callbacks import TensorBoard\n",
        "\n",
        "from sklearn.metrics import roc_curve, precision_recall_curve, accuracy_score,auc\n",
        "\n",
        "%pylab inline"
      ],
      "execution_count": 12,
      "outputs": [
        {
          "output_type": "stream",
          "name": "stdout",
          "text": [
            "Populating the interactive namespace from numpy and matplotlib\n"
          ]
        }
      ]
    },
    {
      "cell_type": "code",
      "metadata": {
        "colab": {
          "base_uri": "https://localhost:8080/"
        },
        "id": "WabjrW_O_bsq",
        "outputId": "bca7a1cd-6e21-431e-919a-211d7973465f"
      },
      "source": [
        "from google.colab import drive\n",
        "drive.mount('/content/drive')"
      ],
      "execution_count": 13,
      "outputs": [
        {
          "output_type": "stream",
          "name": "stdout",
          "text": [
            "Drive already mounted at /content/drive; to attempt to forcibly remount, call drive.mount(\"/content/drive\", force_remount=True).\n"
          ]
        }
      ]
    },
    {
      "cell_type": "code",
      "metadata": {
        "id": "Xo6Ckpi7_bvB"
      },
      "source": [
        "pathinData=\"/content/drive/My Drive/ML_DLA\"\n",
        "pathout='/content/drive/My Drive/ML_DLA/model'\n",
        "model_name = '/cnn_id_SN_3_NHI_20'  #name of the final model which is saved in pathout\n"
      ],
      "execution_count": 14,
      "outputs": []
    },
    {
      "cell_type": "code",
      "metadata": {
        "colab": {
          "base_uri": "https://localhost:8080/"
        },
        "id": "jlDzx6C6_bxN",
        "outputId": "396ea03d-0dea-497a-d682-89282690d086"
      },
      "source": [
        "import keras\n",
        "print(\"Predicting...\")\n",
        "print(\"====================\")\n",
        "LOAD_MODEL=True\n",
        "if LOAD_MODEL:\n",
        "  cnn = keras.models.load_model(pathout+model_name+\"_best.hd5\")"
      ],
      "execution_count": 15,
      "outputs": [
        {
          "output_type": "stream",
          "name": "stdout",
          "text": [
            "Predicting...\n",
            "====================\n"
          ]
        }
      ]
    },
    {
      "cell_type": "code",
      "metadata": {
        "id": "06tC_zFZ_b1k"
      },
      "source": [
        "X = fits.open(pathinData+'/files/Classification_catalog_SN_all_NHI_20_mock_4.7.01.fits')[0].data\n",
        "X = np.expand_dims(X,axis=2)\n",
        "Y1_id = fits.open(pathinData+'/files/Classification_id_SN_all_NHI_20_mock_4.7.01.fits')[1].data\n",
        "Y1 = fits.open(pathinData+'/files/Classification_id_SN_all_NHI_20_mock_4.7.01.fits')[0].data"
      ],
      "execution_count": null,
      "outputs": []
    },
    {
      "cell_type": "code",
      "metadata": {
        "id": "27N9T693_b4R"
      },
      "source": [
        "Y1_id = Y1_id[Y1==1]\n",
        "X = X[Y1==1]\n",
        "mu = np.median(X,axis=(1,2))\n",
        "X_test = X\n",
        "for i in range(0,mu.shape[0]):\n",
        "  X_test[i,:,:] = X[i,:,:]/mu[i]\n",
        "Y_pred_all = cnn.predict(X_test)\n",
        "Y_pred_class_all=Y_pred_all*0\n",
        "Y_pred_class_all[Y_pred_all>0.5]=1"
      ],
      "execution_count": null,
      "outputs": []
    },
    {
      "cell_type": "code",
      "metadata": {
        "id": "PO_4pvKR_b6w"
      },
      "source": [
        "import pandas as pd\n",
        "data = pd.DataFrame({'id':Y1_id,'prediction':Y_pred_class_all.reshape(-1)})\n",
        "data_mean = data.groupby('id').agg('mean')"
      ],
      "execution_count": null,
      "outputs": []
    },
    {
      "cell_type": "code",
      "metadata": {
        "colab": {
          "base_uri": "https://localhost:8080/"
        },
        "id": "7V7iFG1G_b8N",
        "outputId": "006dc983-3911-4916-cf1b-8000b6e055ff"
      },
      "source": [
        "data_mean.shape[0]"
      ],
      "execution_count": null,
      "outputs": [
        {
          "output_type": "execute_result",
          "data": {
            "text/plain": [
              "16605"
            ]
          },
          "metadata": {},
          "execution_count": 8
        }
      ]
    },
    {
      "cell_type": "code",
      "metadata": {
        "colab": {
          "base_uri": "https://localhost:8080/",
          "height": 450
        },
        "id": "orBrvvPJa0nt",
        "outputId": "44a86785-c692-4008-877a-b3bba9b7d573"
      },
      "source": [
        "data_mean"
      ],
      "execution_count": null,
      "outputs": [
        {
          "output_type": "execute_result",
          "data": {
            "text/html": [
              "<div>\n",
              "<style scoped>\n",
              "    .dataframe tbody tr th:only-of-type {\n",
              "        vertical-align: middle;\n",
              "    }\n",
              "\n",
              "    .dataframe tbody tr th {\n",
              "        vertical-align: top;\n",
              "    }\n",
              "\n",
              "    .dataframe thead th {\n",
              "        text-align: right;\n",
              "    }\n",
              "</style>\n",
              "<table border=\"1\" class=\"dataframe\">\n",
              "  <thead>\n",
              "    <tr style=\"text-align: right;\">\n",
              "      <th></th>\n",
              "      <th>prediction</th>\n",
              "    </tr>\n",
              "    <tr>\n",
              "      <th>id</th>\n",
              "      <th></th>\n",
              "    </tr>\n",
              "  </thead>\n",
              "  <tbody>\n",
              "    <tr>\n",
              "      <th>(1160000499,)</th>\n",
              "      <td>0.996364</td>\n",
              "    </tr>\n",
              "    <tr>\n",
              "      <th>(1164000610,)</th>\n",
              "      <td>1.000000</td>\n",
              "    </tr>\n",
              "    <tr>\n",
              "      <th>(1164000621,)</th>\n",
              "      <td>0.000000</td>\n",
              "    </tr>\n",
              "    <tr>\n",
              "      <th>(1166000592,)</th>\n",
              "      <td>1.000000</td>\n",
              "    </tr>\n",
              "    <tr>\n",
              "      <th>(1168000608,)</th>\n",
              "      <td>0.745520</td>\n",
              "    </tr>\n",
              "    <tr>\n",
              "      <th>...</th>\n",
              "      <td>...</td>\n",
              "    </tr>\n",
              "    <tr>\n",
              "      <th>(7296000517,)</th>\n",
              "      <td>0.965517</td>\n",
              "    </tr>\n",
              "    <tr>\n",
              "      <th>(7299000447,)</th>\n",
              "      <td>0.996416</td>\n",
              "    </tr>\n",
              "    <tr>\n",
              "      <th>(7300000584,)</th>\n",
              "      <td>0.000000</td>\n",
              "    </tr>\n",
              "    <tr>\n",
              "      <th>(7300000619,)</th>\n",
              "      <td>0.976852</td>\n",
              "    </tr>\n",
              "    <tr>\n",
              "      <th>(7303000557,)</th>\n",
              "      <td>1.000000</td>\n",
              "    </tr>\n",
              "  </tbody>\n",
              "</table>\n",
              "<p>16605 rows × 1 columns</p>\n",
              "</div>"
            ],
            "text/plain": [
              "               prediction\n",
              "id                       \n",
              "(1160000499,)    0.996364\n",
              "(1164000610,)    1.000000\n",
              "(1164000621,)    0.000000\n",
              "(1166000592,)    1.000000\n",
              "(1168000608,)    0.745520\n",
              "...                   ...\n",
              "(7296000517,)    0.965517\n",
              "(7299000447,)    0.996416\n",
              "(7300000584,)    0.000000\n",
              "(7300000619,)    0.976852\n",
              "(7303000557,)    1.000000\n",
              "\n",
              "[16605 rows x 1 columns]"
            ]
          },
          "metadata": {},
          "execution_count": 10
        }
      ]
    },
    {
      "cell_type": "code",
      "metadata": {
        "colab": {
          "base_uri": "https://localhost:8080/"
        },
        "id": "jb458I4k_b-k",
        "outputId": "43ad6a9d-1b4e-469b-de94-8adbf9978ab8"
      },
      "source": [
        "print('completeness:',data_mean.loc[data_mean['prediction']>0.5].shape[0]/data_mean.shape[0])"
      ],
      "execution_count": null,
      "outputs": [
        {
          "output_type": "stream",
          "name": "stdout",
          "text": [
            "completeness: 0.9394158386028305\n"
          ]
        }
      ]
    },
    {
      "cell_type": "markdown",
      "metadata": {
        "id": "9i3l_D0rcI19"
      },
      "source": [
        "Accuracy"
      ]
    },
    {
      "cell_type": "code",
      "metadata": {
        "id": "XROGSCJhcKyk"
      },
      "source": [
        "X = fits.open(pathinData+'/files/Classification_catalog_SN_all_NHI_20_mock_4.7.01.fits')[0].data\n",
        "X = np.expand_dims(X,axis=2)\n",
        "Y1_id = fits.open(pathinData+'/files/Classification_id_SN_all_NHI_20_mock_4.7.01.fits')[1].data\n",
        "Y1 = fits.open(pathinData+'/files/Classification_id_SN_all_NHI_20_mock_4.7.01.fits')[0].data"
      ],
      "execution_count": 16,
      "outputs": []
    },
    {
      "cell_type": "code",
      "metadata": {
        "id": "ZiHQd5Q51rci"
      },
      "source": [
        "#X=X[0:len(X)//3,:,:]\n",
        "#Y1_id=Y1_id[0:len(Y1_id)//3]\n",
        "#Y1=Y1[0:len(Y1)//3]\n",
        "X=X[len(X)//5*3:len(X)//5*4,:,:]\n",
        "Y1_id=Y1_id[len(Y1_id)//5*3:len(Y1_id)//5*4]\n",
        "Y1=Y1[len(Y1)//5*3:len(Y1)//5*4]"
      ],
      "execution_count": 17,
      "outputs": []
    },
    {
      "cell_type": "code",
      "metadata": {
        "id": "HrRYJV-gAndm",
        "outputId": "1b72ff61-4b19-4987-8a82-dabba9b5c5b1",
        "colab": {
          "base_uri": "https://localhost:8080/"
        }
      },
      "source": [
        "X.shape"
      ],
      "execution_count": 18,
      "outputs": [
        {
          "output_type": "execute_result",
          "data": {
            "text/plain": [
              "(4505765, 400, 1)"
            ]
          },
          "metadata": {},
          "execution_count": 18
        }
      ]
    },
    {
      "cell_type": "code",
      "metadata": {
        "id": "0Ro2-ysBcK0z"
      },
      "source": [
        "mu = np.median(X,axis=(1,2))\n",
        "X_test = X\n",
        "for i in range(0,mu.shape[0]):\n",
        "  X_test[i,:,:] = X[i,:,:]/mu[i]\n",
        "Y_pred_all = cnn.predict(X_test)\n",
        "#Y_pred = Y_pred_all.reshape(-1)*0\n",
        "#Y_pred[Y_pred_all.reshape(-1)>0.5]=1"
      ],
      "execution_count": 19,
      "outputs": []
    },
    {
      "cell_type": "code",
      "metadata": {
        "id": "9unPZNapcK3D",
        "outputId": "402e4835-2da8-486b-bfc8-563e262a99a2",
        "colab": {
          "base_uri": "https://localhost:8080/"
        }
      },
      "source": [
        "import pandas as pd\n",
        "Y_pred = Y_pred_all.reshape(-1)*0\n",
        "Y_pred[Y_pred_all.reshape(-1)>0.5]=1\n",
        "Y1_new=Y1.byteswap().newbyteorder()\n",
        "data = pd.DataFrame({'id':Y1_id,'prediction':Y_pred,'true':Y1_new})\n",
        "data_mean = data.groupby('id').agg('mean')\n",
        "print(data_mean.shape[0])\n",
        "print(data_mean)\n",
        "#data_mean['prediction'][data_mean['prediction']>0.5] = 1\n",
        "#data_mean['prediction'][data_mean['prediction']<0.5] = 0\n",
        "#data_mean['true'][data_mean['true']>0.5] = 1\n",
        "#data_mean['true'][data_mean['true']<0.5] = 0\n"
      ],
      "execution_count": 20,
      "outputs": [
        {
          "output_type": "stream",
          "name": "stdout",
          "text": [
            "4191\n",
            "               prediction      true\n",
            "id                                 \n",
            "(1172000610,)    0.225352  0.206820\n",
            "(1174000601,)    0.000000  0.000000\n",
            "(1174000614,)    0.223471  0.225968\n",
            "(1176000646,)    0.026686  0.022239\n",
            "(1176000708,)    0.035250  0.000000\n",
            "...                   ...       ...\n",
            "(7293000512,)    0.346924  0.172721\n",
            "(7293000561,)    0.003049  0.000000\n",
            "(7295000441,)    0.014286  0.000000\n",
            "(7295000482,)    0.318755  0.206820\n",
            "(7295000584,)    0.350962  0.335337\n",
            "\n",
            "[4191 rows x 2 columns]\n"
          ]
        }
      ]
    },
    {
      "cell_type": "code",
      "metadata": {
        "id": "xhbhBzCJRDb5",
        "outputId": "1ea2dabc-4826-428d-de5e-ace0e671623c",
        "colab": {
          "base_uri": "https://localhost:8080/",
          "height": 450
        }
      },
      "source": [
        "data_count = data.groupby('id').agg('count')\n",
        "data_count"
      ],
      "execution_count": 22,
      "outputs": [
        {
          "output_type": "execute_result",
          "data": {
            "text/html": [
              "<div>\n",
              "<style scoped>\n",
              "    .dataframe tbody tr th:only-of-type {\n",
              "        vertical-align: middle;\n",
              "    }\n",
              "\n",
              "    .dataframe tbody tr th {\n",
              "        vertical-align: top;\n",
              "    }\n",
              "\n",
              "    .dataframe thead th {\n",
              "        text-align: right;\n",
              "    }\n",
              "</style>\n",
              "<table border=\"1\" class=\"dataframe\">\n",
              "  <thead>\n",
              "    <tr style=\"text-align: right;\">\n",
              "      <th></th>\n",
              "      <th>prediction</th>\n",
              "      <th>true</th>\n",
              "    </tr>\n",
              "    <tr>\n",
              "      <th>id</th>\n",
              "      <th></th>\n",
              "      <th></th>\n",
              "    </tr>\n",
              "  </thead>\n",
              "  <tbody>\n",
              "    <tr>\n",
              "      <th>(1167000597,)</th>\n",
              "      <td>762</td>\n",
              "      <td>762</td>\n",
              "    </tr>\n",
              "    <tr>\n",
              "      <th>(1169000563,)</th>\n",
              "      <td>1349</td>\n",
              "      <td>1349</td>\n",
              "    </tr>\n",
              "    <tr>\n",
              "      <th>(1169000627,)</th>\n",
              "      <td>1161</td>\n",
              "      <td>1161</td>\n",
              "    </tr>\n",
              "    <tr>\n",
              "      <th>(1169000666,)</th>\n",
              "      <td>867</td>\n",
              "      <td>867</td>\n",
              "    </tr>\n",
              "    <tr>\n",
              "      <th>(1169000679,)</th>\n",
              "      <td>1121</td>\n",
              "      <td>1121</td>\n",
              "    </tr>\n",
              "    <tr>\n",
              "      <th>...</th>\n",
              "      <td>...</td>\n",
              "      <td>...</td>\n",
              "    </tr>\n",
              "    <tr>\n",
              "      <th>(7294000596,)</th>\n",
              "      <td>1072</td>\n",
              "      <td>1072</td>\n",
              "    </tr>\n",
              "    <tr>\n",
              "      <th>(7296000446,)</th>\n",
              "      <td>722</td>\n",
              "      <td>722</td>\n",
              "    </tr>\n",
              "    <tr>\n",
              "      <th>(7296000464,)</th>\n",
              "      <td>1096</td>\n",
              "      <td>1096</td>\n",
              "    </tr>\n",
              "    <tr>\n",
              "      <th>(7296000493,)</th>\n",
              "      <td>1349</td>\n",
              "      <td>1349</td>\n",
              "    </tr>\n",
              "    <tr>\n",
              "      <th>(7296000517,)</th>\n",
              "      <td>1349</td>\n",
              "      <td>1349</td>\n",
              "    </tr>\n",
              "  </tbody>\n",
              "</table>\n",
              "<p>6996 rows × 2 columns</p>\n",
              "</div>"
            ],
            "text/plain": [
              "               prediction  true\n",
              "id                             \n",
              "(1167000597,)         762   762\n",
              "(1169000563,)        1349  1349\n",
              "(1169000627,)        1161  1161\n",
              "(1169000666,)         867   867\n",
              "(1169000679,)        1121  1121\n",
              "...                   ...   ...\n",
              "(7294000596,)        1072  1072\n",
              "(7296000446,)         722   722\n",
              "(7296000464,)        1096  1096\n",
              "(7296000493,)        1349  1349\n",
              "(7296000517,)        1349  1349\n",
              "\n",
              "[6996 rows x 2 columns]"
            ]
          },
          "metadata": {},
          "execution_count": 22
        }
      ]
    },
    {
      "cell_type": "code",
      "metadata": {
        "id": "1ULmeoLiOZXp",
        "outputId": "0dff4735-703e-4c70-b3f5-5df5f8433734",
        "colab": {
          "base_uri": "https://localhost:8080/"
        }
      },
      "source": [
        "print('DLA completeness:',np.count_nonzero(Y_pred[Y1==1]==Y1[Y1==1])/Y1[Y1==1].shape[0])\n",
        "print('DLA purity:',np.count_nonzero(Y_pred==Y1)/Y1.shape[0])"
      ],
      "execution_count": 21,
      "outputs": [
        {
          "output_type": "stream",
          "name": "stdout",
          "text": [
            "DLA completeness: 0.8862050387067336\n",
            "DLA purity: 0.9312589538069562\n"
          ]
        }
      ]
    },
    {
      "cell_type": "code",
      "metadata": {
        "id": "YKpaMfztx3Gv",
        "outputId": "2efa4b43-0a83-4bea-af84-9a09238e30ec",
        "colab": {
          "base_uri": "https://localhost:8080/"
        }
      },
      "source": [
        "#data_mean_completeness = data_mean.loc[data_mean['true']==1]\n",
        "#print('completeness:',np.count_nonzero(data_mean_completeness['prediction']==data_mean_completeness['true'])/data_mean_completeness.shape[0])\n",
        "#print('purity:',np.count_nonzero(data_mean['prediction']==data_mean['true'])/data_mean.shape[0])\n",
        "print('completeness:',np.count_nonzero(data_mean['prediction']>0)/data_mean.shape[0])"
      ],
      "execution_count": 22,
      "outputs": [
        {
          "output_type": "stream",
          "name": "stdout",
          "text": [
            "completeness: 0.9045573848723455\n"
          ]
        }
      ]
    },
    {
      "cell_type": "markdown",
      "metadata": {
        "id": "B7icpI2FWB21"
      },
      "source": [
        "number,completeness DLA,purity, completeness catalog"
      ]
    },
    {
      "cell_type": "code",
      "metadata": {
        "id": "dMw3RckH1FSQ"
      },
      "source": [
        "6696,0.8864,0.9355，0.887"
      ],
      "execution_count": null,
      "outputs": []
    },
    {
      "cell_type": "code",
      "metadata": {
        "id": "L57z5cuuG4iM"
      },
      "source": [
        "4198  0.8895   0.9313   0.88970"
      ],
      "execution_count": null,
      "outputs": []
    }
  ]
}